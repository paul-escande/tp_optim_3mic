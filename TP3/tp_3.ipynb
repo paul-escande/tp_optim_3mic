{
 "cells": [
  {
   "cell_type": "markdown",
   "metadata": {},
   "source": [
    "# Algorithme du simplexe: méthode des dictionnaires"
   ]
  },
  {
   "cell_type": "markdown",
   "metadata": {},
   "source": [
    "Le but de ce TP est d'implémenter la méthode des dictionnaires, une implémentation de l'algorithme du simplexe.\n",
    "\n",
    "L'algorithme du simplexe permet de résoudre les problèmes de programmation linéaire sous forme standard c'est à dire\n",
    "$$\n",
    "\\min_{x \\in \\mathbb{R}^n | A x = b} \\langle c, x \\rangle \n",
    "$$\n",
    "avec :\n",
    "- $x, c \\in \\mathbb{R}^n$\n",
    "- $b \\in \\mathbb{R}^m$\n",
    "- $A \\in \\mathcal{M}_{m \\times n}(\\mathbb{R})$ avec $m \\leq n$ et $A$ de rang $m$."
   ]
  },
  {
   "cell_type": "code",
   "execution_count": null,
   "metadata": {},
   "outputs": [],
   "source": [
    "import numpy as np"
   ]
  },
  {
   "cell_type": "markdown",
   "metadata": {},
   "source": [
    "## I. Implémentation des dictionnaires"
   ]
  },
  {
   "cell_type": "markdown",
   "metadata": {},
   "source": [
    "Pour rappel, un dictionnaire est une structure permettant de manipuler les iterations de l'algorithme du simplexe. Pour un itéré de base $K$ le dictionnaire associé est de la forme\n",
    "$$\n",
    "\\begin{array}{c|c}\n",
    " -\\langle c_K, A_K^{-1} b \\rangle & r^T\\\\\\hline\n",
    " x_K = A_K^{-1} b & A_K^{-1} A\n",
    "\\end{array}\n",
    "$$\n",
    "où $r^T = c^T - c_K^T A_K^{-1} A$ est le vecteur des coûts réduits.\n",
    "\n",
    "Afin de manipuler les dictionnaires, nous allons utiliser la structure `Dictionary` définie ci dessous. \n",
    "Elle contient les champs:\n",
    "- `m` : le nombre de contraintes\n",
    "- `n` : le nombre de variables\n",
    "- `c` : un `np.array` définissant de taille $n$ la fonction coût\n",
    "- `labels` : une `list` de `str` permettant de nommer les `n` variables\n",
    "- `basis` : les indices des `m` variables dans la base\n",
    "- `D` : un `np.array` de taille $(m+1) \\times (n+1)$ dictionnaire \n",
    "\n",
    "Attention, il est important de bien utiliser les types définis pour ces variables, les fonctions suivantes de ce TP pourrait mal se comporter sinon.\n",
    "En toute rigeur, il faudrait définir des méthodes qui permettent de mettre à jour les attributs de la classe et qui vérifient le bon typage des variables. Mais cela sort du cadre de ce TP.\n",
    "\n",
    "La classe contient une méthode `display()` permettant d'afficher le dictionnaire."
   ]
  },
  {
   "cell_type": "code",
   "execution_count": null,
   "metadata": {},
   "outputs": [],
   "source": [
    "class Dictionary():\n",
    "    def __init__(self, m, n):\n",
    "        self.m = m # number of constraints\n",
    "        self.n = n # number of variables+\n",
    "        self.D = np.zeros((m+1,n+1)) # dictionary\n",
    "        self.c = np.zeros(n) # cost function vector\n",
    "        self.labels = {} # labels of the variables\n",
    "        self.basic = np.zeros(m) # which variables are basic\n",
    "\n",
    "    # this method displays the dictionary\n",
    "    def display(self):\n",
    "        \"\"\"\n",
    "        Display this simplex dictionary on the standard Jupyter output.\n",
    "\n",
    "        Args:\n",
    "            name: Name of the dictionary.\n",
    "        \"\"\"\n",
    "        from IPython.display import Math, display\n",
    "\n",
    "        d = (\n",
    "            r\"\\begin{{array}}{{r|{}}}\".format(\"r\" * (self.D.shape[1]))\n",
    "            + r\"\\hline \"\n",
    "            + np.array2string(self.D[0,:], separator=\" & \", formatter={'float_kind':'{:f}'.format})[1:-1]\n",
    "            + r\"\\\\\\hline \"\n",
    "            + r\"\\\\\".join(\n",
    "                (self.labels[self.basic[i-1]] + \" = \" if len(self.labels) == self.n else \"\")\n",
    "                +\n",
    "                np.array2string(self.D[i,:], separator= \" & \", formatter={'float_kind':'{:f}'.format})[1:-1]\n",
    "                for i in range(1,self.D.shape[0])\n",
    "                )\n",
    "            + r\"\\\\\\hline\\end{array}\"\n",
    "        )\n",
    "\n",
    "        display(Math(d))\n",
    "        x = np.zeros(self.n)\n",
    "        x[self.basic] = self.D[1:,0]\n",
    "        print('Current point ' + np.array2string(x, separator= \", \"))\n",
    "        print('Current cost : %.2f' % (-self.D[0,0]))"
   ]
  },
  {
   "cell_type": "markdown",
   "metadata": {},
   "source": [
    "Par exemple, le problème linéaire sous forme standard suivant :\n",
    "$$\n",
    "\\begin{array}{rrrlrlrlrlrlrl}\n",
    "\\max & z = & 3 x_1 & + & 2 x_2 &   &     &   &    \\\\\n",
    "s.c.     & & 2 x_1 & + &   x_2 & + & x_3 & = & 18  \\\\\n",
    "         & & 2 x_1 & + & 3 x_2 & + & x_4 & = & 42 \\\\\n",
    "         & & 3 x_1 & + &   x_2 & + & x_5 & = & 24 \\\\\n",
    "         & & x_j & \\geq & 0 & \\quad & j = & 1, & 2, & 3, & 4, & 5\n",
    "\\end{array}\n",
    "$$\n",
    "possède une base évidente composée des variables d'écart $K = (x_3, x_4, x_5)$. Il est ainsi possible de construire le dictionaire suivant:\n",
    "$$\n",
    "\\begin{array}{l|l l l l l|}\n",
    " 0 & -3 & -2 & 0 & 0 & 0 \\\\\\hline\n",
    " x_3 = 18 & 2 & 1 & 1 & 0 & 0\\\\\n",
    " x_4 = 42 & 2 & 3 & 0 & 1 & 0 \\\\\n",
    " x_5 = 24 & 3 & 1 & 0 & 0 & 1 \\\\\\hline\n",
    "\\end{array}\n",
    "$$\n",
    "car comme $x_1 = x_2 = 0$ les varialbes d'écarts $x_3 = b_1$, $x_4 = b_2$, $x_5 = b_3$. De plus comme $c_K = 0$, on obtient  $\\langle c_K, A_K^{-1} b \\rangle  = 0$ et $r^T = c^T$.\n",
    "\n",
    "Le code ci-dessous permet de créer le dictionnaire associé. "
   ]
  },
  {
   "cell_type": "code",
   "execution_count": null,
   "metadata": {},
   "outputs": [],
   "source": [
    "n = 2 # nombre de variables\n",
    "m = 3 # nombre de contraintes\n",
    "\n",
    "dict =  Dictionary(m,n+m) # taille du dictionnaire avec les variables d'écarts\n",
    "\n",
    "dict.D[0,0] = 0 # coût à l'itéré courant -\\langle c_K, A_K^{-1} b \\rangle dans la première case du tableau\n",
    "dict.D[1:,0] = [18, 42, 24] # valeurs x_K des variables de base dans la première colonne \n",
    "dict.D[0,1:] = [-3, -2, 0, 0, 0] # vecteur des coûts réduits r^T dans la première ligne\n",
    "dict.D[1:,1:] = [[2, 1, 1, 0, 0], [2, 3,0,1,0], [3,1,0,0,1]] # matrice des contraintes A_K^{-1} A dans le reste du tableau \n",
    "dict.basic = [2,3,4] # les variables de bases sont d'indices 2,3,4 \n",
    "dict.c[:] = [-3,-2,0,0,0] # le vecteur définissant la fonction cout\n",
    "dict.labels = list(['x_1', 'x_2', 'x_3', 'x_4', 'x_5']) # le nom des variables\n",
    "\n",
    "dict.display()"
   ]
  },
  {
   "cell_type": "markdown",
   "metadata": {},
   "source": [
    "**Todo:** Etudier le code pour comprendre la structure du dictionnaire et l'organisation de `dict.D`."
   ]
  },
  {
   "cell_type": "markdown",
   "metadata": {
    "vscode": {
     "languageId": "plaintext"
    }
   },
   "source": [
    "## II. Implémentation de la méthode du simplexe"
   ]
  },
  {
   "cell_type": "markdown",
   "metadata": {},
   "source": [
    "Dans cette partie, nous allons implémenter l'algorithme du simplexe qui manipulera la structure `Dictionary`. La règle de Bland sera utilisée (règle de plus petit indice) afin de selectionner les variables entrantes et sortantes.\n",
    "\n",
    "**Todo:** Pour le dictionnaire précédent, c'est à dire \n",
    "$$\n",
    "\\begin{array}{l|l l l l l|}\n",
    " 0 & -3 & -2 & 0 & 0 & 0 \\\\\\hline\n",
    " x_3 = 18 & 2 & 1 & 1 & 0 & 0\\\\\n",
    " x_4 = 42 & 2 & 3 & 0 & 1 & 0 \\\\\n",
    " x_5 = 24 & 3 & 1 & 0 & 0 & 1 \\\\\\hline\n",
    "\\end{array}\n",
    "$$\n",
    "trouver la variable entrante, la variable sortante et effectuer une étape de l'algorithme du simplexe. \n",
    "Réiterer jusqu'à convergence.\n",
    "Ceci permettra de tester vos fonctions."
   ]
  },
  {
   "cell_type": "markdown",
   "metadata": {},
   "source": [
    "### 1. Recherche des variables entrantes et sortantes\n",
    "\n",
    "Ecrire une fonction `find_entering_variable` permettant de trouver la variable entrante d'un dictionnaire donnée. Cette fonction prend en argument:\n",
    "- `D` : le `np.array` de taille $(m+1, n+1)$ représentant le dictionnaire.\n",
    "\n",
    "Et retourne\n",
    "- `index_entering` : l'indice de la variable entrant le dictionnaire. C'est à dire, le plus petit indice des variables pour lesquelles les coûts réduits sont strictement négatifs. Si tous les coûts réduits sont positifs ou nuls, la fonction devra retourner `index_entering = None`\n",
    "\n",
    "A cette fin, vous pouvez utiliser une boucle sur les coûts réduits (c'est à dire `D[0,1:]`) qui s'arrete dès qu'elle recontre un cout réduit négatif et retourne le dernière indice de l'itération. \n",
    "\n",
    "Attention, cette fonction doit retourner un indice entre $0$ et $n-1$. En fonction de votre implémentation, vérifier que l'indice retourné n'est pas décalé de 1. Ceci sera important pour les fonctions prédéfinies dans les sections suivantes.\n"
   ]
  },
  {
   "cell_type": "code",
   "execution_count": null,
   "metadata": {},
   "outputs": [],
   "source": [
    "def find_entering_variable(D):\n",
    "    # à coder\n",
    "    return index_entering "
   ]
  },
  {
   "cell_type": "markdown",
   "metadata": {},
   "source": [
    "**Test:** Vérifier que la fonction retourne bien la bonne variable pour le dictionnaire `dict` défini."
   ]
  },
  {
   "cell_type": "code",
   "execution_count": null,
   "metadata": {},
   "outputs": [],
   "source": [
    "index_entering = find_entering_variable(dict.D)\n",
    "print(index_entering)"
   ]
  },
  {
   "cell_type": "markdown",
   "metadata": {},
   "source": [
    "Ecrire une fonction `find_leaving_variable` permettant de trouver la variable sortante pour un dictionnaire et une variable entrante donnés. Cette fonction prend en argument :\n",
    "- `D` : le `np.array` de taille $(m+1, n+1)$ représentant le dictionnaire.\n",
    "- `index_entering` : l'indice de la variable entrant le dictionnaire. Si aucune variable ne peut entrer la base la fonction doit retourner `index_entering = None`\n",
    "\n",
    "Elle retourne `index_leaving` l'indice de la variable sortant dans la base. C'est à dire que si la base est $K = \\{ x_4, x_2, x_1 \\}$ et que $x_4$ sort de la base, `index_leaving = 0`. De même, si $x_1$ sortait de la base on aurait `index_leaving = 2`.\n",
    "Notons que l'indice de la variable dans le vecteur $x$ peut être retrouvé en utilisant `dict.basic[index_leaving]`. Dans l'exemple précédent on aurait en effet `dict.basic = [3,1,0]`.\n",
    "\n",
    "\n",
    "Notons $u$ la direction de descente admissible associée à la variable entrante, c'est à dire `D[1:,index_entering]`. Si toutes les composantes de $u$ sont négatives ou nulles, aucune variable ne peut entrer la base (car le problème est non borné).\n",
    "Dans le cas contrainte, la variable entrant la base sera d'indice réalisant le minimum :\n",
    "$$\n",
    "    \\min_{i | u_i > 0} \\frac{x_i}{u_i}.\n",
    "$$\n",
    "A cet fin, vous pouvez également utiliser une boucle calculant les ratios $x_i / u_i$ pour les $u_i > 0$ et qui retient le minimum et l'indice le réalisant.\n",
    "Similairement `index_leaving` doit être entre $0$ et $m-1$."
   ]
  },
  {
   "cell_type": "code",
   "execution_count": null,
   "metadata": {},
   "outputs": [],
   "source": [
    "def find_leaving_variable(D,index_entering):\n",
    "    ## à coder\n",
    "    return index_leaving"
   ]
  },
  {
   "cell_type": "markdown",
   "metadata": {},
   "source": [
    "**Test:** Vérifier que la fonction retourne bien la variable sortante pour le dictionnaire défini."
   ]
  },
  {
   "cell_type": "code",
   "execution_count": null,
   "metadata": {},
   "outputs": [],
   "source": [
    "index_entering = find_entering_variable(dict.D)\n",
    "index_leaving = find_leaving_variable(dict.D, index_entering)\n",
    "print(index_entering)\n",
    "print(index_leaving)\n",
    "print(dict.basic[index_leaving])"
   ]
  },
  {
   "cell_type": "markdown",
   "metadata": {},
   "source": [
    "### 2. Pivot du dictionnaire"
   ]
  },
  {
   "cell_type": "markdown",
   "metadata": {},
   "source": [
    "La prochaine fonction à implémenter va réaliser l'étape de pivot du dictionnaire à partir d'une variable entrante et sortante.\n",
    "La fonction `pivot_dictionary` prend en entrée:\n",
    "- `D` : le `np.array` de taille $(m+1, n+1)$ représentant le dictionnaire.\n",
    "- `index_entering` : l'indice de la variable entrant dans le dictionnaire.\n",
    "- `index_leaving` : l'indice de la variable sortante\n",
    "\n",
    "Rappelons que lors de l'étape de pivot :\n",
    "- la ligne pivot (d'indice `index_leaving + 1`) doit être ajoutée à toutes les lignes de `D` (à l'exeption de la ligne pivot) afin d'annuler les coefficients de la colonne pivot (d'indice `index_entering + 1`). \n",
    "- la ligne pivot doit être divisée par l'élément pivot `D[index_leaving + 1, index_entering + 1]`. Rappelons que par définition, l'élément pivot est strictement positif.\n",
    "\n",
    "A la suite de toutes ces étapes la colonne `D[:,index_entering + 1]` doit être nulle sur tous les éléments à l'exeption de l'élément `index_leaving + 1` qui doit valoir `1`.\n",
    "Vous pouvez utiliser une boucle pour réaliser l'étape de pivot."
   ]
  },
  {
   "cell_type": "code",
   "execution_count": null,
   "metadata": {},
   "outputs": [],
   "source": [
    "def pivot_dictionary(D,index_entering, index_leaving):\n",
    "    nD = np.copy(D) # to force copy not just pointer copy\n",
    "    # à coder\n",
    "    return nD"
   ]
  },
  {
   "cell_type": "markdown",
   "metadata": {},
   "source": [
    "**Test:** Vérifier que la fonction retourne bien le bon dictionnaire."
   ]
  },
  {
   "cell_type": "code",
   "execution_count": null,
   "metadata": {},
   "outputs": [],
   "source": [
    "index_entering = find_entering_variable(dict.D)\n",
    "index_leaving = find_leaving_variable(dict.D, index_entering)\n",
    "new_dict = pivot_dictionary(dict.D, index_entering, index_leaving)\n",
    "\n",
    "print(new_dict)"
   ]
  },
  {
   "cell_type": "markdown",
   "metadata": {},
   "source": [
    "### 3. Algorithme du simplexe\n",
    "\n"
   ]
  },
  {
   "cell_type": "markdown",
   "metadata": {},
   "source": [
    "Dans cette section, nous allons implémenter l'algorithme du simplexe à partir d'un dictionnaire initial qui sera supposé valide, c'est à dire que la base du dictionnaire donne une solution de base admissible.\n",
    "Ecrire la fonction `simplex_method` ci-dessous qui implémente l'algorithme du simplexe. Elle prend en entrée:\n",
    "- `dict` : un `Dictionary` représentant le dictionnaire initial\n",
    "- `display` : un booléen optionel qui permet de déclencher l'affichage du dictionnaire après chaque itération.\n",
    "\n",
    "Elle retourne\n",
    "- `optimal_cost` : la valeur de la fonction coût à l'optimum\n",
    "- `solution` : un vecteur de taille $n$ représentant le sommet réalisant l'optimum\n",
    "- `dict` : le dictionnaire à l'optimum\n",
    "\n",
    "La fonction doit :\n",
    "- émettre une erreur lorsque le programme n'est pas borné, c'est à dire lorsqu'à une itération donnée, aucune variable ne peut sortir du dictionnaire. Ceci peut s'effectuer à l'aide de `raise ValueError('Unbounded program')`.\n",
    "- permuter les indices des variables entrantes et sortantes dans `dict.basic` afin de connaitre les variables dans la base et leur ordre dans le dictionnaire.\n",
    "- retourner le minimiseur en tant que vecteur de taille $n$ contenant ainsi les variables de base et hors base (nulles)\n",
    "\n",
    "Rappelons que l'algorithme a identifié le minimum lorsque tous les coûts réduits sont positifs ou nulles, autrement dit lorsqu'il n'y a plus de variable pouvant entrer dans la base.\n"
   ]
  },
  {
   "cell_type": "code",
   "execution_count": 4,
   "metadata": {},
   "outputs": [],
   "source": [
    "def simplex_method(dict, display = True):\n",
    "\n",
    "    # à coder \n",
    "    # penser à utiliser les lignes suivantes pour afficher le dictionnaire à chaque itération\n",
    "    #    if display:\n",
    "    #        dict.display()\n",
    "    \n",
    "    optimal_cost = ...\n",
    "    solution = ...\n",
    "    return optimal_cost, solution, dict\n"
   ]
  },
  {
   "cell_type": "markdown",
   "metadata": {},
   "source": [
    "**Test:** Lancer l'algorithme du simplexe sur le dictionnaire et vérifier son exactitude."
   ]
  },
  {
   "cell_type": "code",
   "execution_count": null,
   "metadata": {},
   "outputs": [],
   "source": [
    "optimal_cost, solution, dict = simplex_method(dict)"
   ]
  },
  {
   "cell_type": "markdown",
   "metadata": {},
   "source": [
    "## II. Méthode du simplexe en deux phases\n",
    "\n",
    "Dans la section précédente, un algorithme du simplexe a été implémenté sous l'hypothèse de dictionnaire initial valide. Ce n'est pas le cas en général.\n",
    "\n",
    "Cette section rassemble les fonctions permettant de définir `simplex_two_phases` résolvant le problème linéaire en deux étapes :\n",
    "- la première qui permet de trouver un dictionnaire initial valide, en résolvant un problème linéaire auxiliaire pour lequel il existe une base initiale évidente admissible. Il est résolu à l'aide `simplex_method`\n",
    "- la deuxième qui applique l'algorithme du simplexe sur ce dictionnaire initial.\n",
    "\n",
    "Voir section 7.2 des notes de cours et Exercice 3.6.\n"
   ]
  },
  {
   "cell_type": "code",
   "execution_count": null,
   "metadata": {},
   "outputs": [],
   "source": [
    "# la fonction suivante permet de vérifier si le dictionnaire est valide, c'est à dire si les variables sont positives\n",
    "def is_valid_dictionary(dict):\n",
    "    # all basic variables are non-negative\n",
    "    test1 = np.all(dict.D[1:,0] >= 0)    \n",
    "    # the matrix is invertible\n",
    "    A = dict.D[1:,np.array(dict.basic)+1]\n",
    "    test2 = np.linalg.cond(A) < 1e8\n",
    "    return test1 and test2\n",
    "\n",
    "\n",
    "\n",
    "# la fonction suivante créer le dictionnaire associé au problème linéaire auxiliaire à résoudre pour obtenir le dictionnaire intial\n",
    "def make_auxiliary_dictionary(dict):\n",
    "    m = dict.m\n",
    "    n = dict.n\n",
    "\n",
    "    aux_dict = Dictionary(m,n+m) \n",
    "    aux_dict.D[1:(m+1),1:(n+1)] = dict.D[1:,1:]\n",
    "    \n",
    "    # make sure b_i >= 0\n",
    "    aux_dict.D[1:,0] = dict.D[1:,0]\n",
    "    aux_dict.D[1:,:] *= np.sign(aux_dict.D[1:,0:1] + (aux_dict.D[1:,0:1] == 0))\n",
    "    aux_dict.D[0,0] = -np.sum(aux_dict.D[1:,0]) \n",
    "    aux_dict.D[0,1:(n+1)] = -np.sum(aux_dict.D[1:,1:(n+1)], axis = 0) \n",
    "\n",
    "    aux_dict.D[1:(m+1),(n+1):] = np.eye(m)\n",
    "    \n",
    "    aux_dict.basic = list(range(n,n+m)) # basic variables are last variables\n",
    "    return aux_dict\n",
    "\n",
    "\n",
    "# cette fonction permet d'obtenir le dictionnaire initial en résolvant le problème auxiliaire et en récupérant les bonnes variables\n",
    "# elle retourne None si il n'y a pas de dictionnaire intial, c'est à dire si l'ensemble des contraintes est vide.\n",
    "def initial_phase(dict, display=True):\n",
    "    aux_dict = make_auxiliary_dictionary(dict)\n",
    "    \n",
    "    if display:\n",
    "        print('Auxiliary dictionary :')\n",
    "        aux_dict.display()\n",
    "\n",
    "    aux_optimal, aux_solution, aux_dict = simplex_method(aux_dict)\n",
    "    nD = None\n",
    "\n",
    "    if np.isclose(aux_optimal,0):\n",
    "        nD = Dictionary(dict.m, dict.n)\n",
    "        nD.c = dict.c\n",
    "        nD.basic = aux_dict.basic \n",
    "        nD.D[0,0] = -np.sum( nD.c[nD.basic] * aux_dict.D[1:,0]) \n",
    "        nD.D[1:,:] = aux_dict.D[1:,:nD.n+1] \n",
    "        nD.D[0,1:] = nD.c - nD.c[nD.basic]@nD.D[1:,1:] # c - c_K^T A \n",
    "\n",
    "        nD.display()\n",
    "    return nD\n",
    "\n",
    "# cette fonction implémente l'algorithme du simplexe en deux phases\n",
    "def simplex_two_phases(dict, display = True):\n",
    "    if not is_valid_dictionary(dict):\n",
    "        nD = initial_phase(dict, display)\n",
    "        if nD == None:\n",
    "            raise ValueError('Infeasible program')\n",
    "    else:\n",
    "        nD = dict\n",
    "\n",
    "    if display:\n",
    "        print('Initial dictionary:')\n",
    "        nD.display()\n",
    "\n",
    "    optimal_cost, solution, nD = simplex_method(nD, display) \n",
    "    return optimal_cost, solution, nD\n"
   ]
  },
  {
   "cell_type": "markdown",
   "metadata": {},
   "source": [
    "On considère maintenant le programme linéaire suivant :\n",
    "\n",
    "$$\n",
    "\\mathcal{P}=\\left(\\begin{array}{rrrlrlrl}\n",
    "\\min & z = & x_1 & + &  x_2 & \\\\\n",
    "s.c. & & -3x_1 & - & 4x_2 &  \\leq & -12 \\\\\n",
    "& & 2x_1 &  +  & x_2 & \\leq & 4 \\\\\n",
    "& & x_j & \\geq & 0 & \\quad & j = & 1,2\n",
    "\\end{array}\\right.\n",
    "$$\n",
    "\n",
    "Dont la représentation graphique est donnée ci-dessous:\n",
    "    \n",
    "![Problem 2](problem_2.png)\n",
    "        \n",
    "Le minimum est de $3$ et est atteint en $(3,0)$.\n",
    "\n",
    "Le problème sous forme standard s'écrit :\n",
    "$$\n",
    "\\mathcal{P}=\\left(\\begin{array}{rrrlrlrlrl}\n",
    "\\max & z = & - x_1 & - &  x_2 & & & \\\\\n",
    "s.c. & & -3x_1 & - & 4x_2 & + & x_3 & = & -12 \\\\\n",
    "& & 2x_1 &  +  & x_2 & + & x_4 & = & 4 \\\\\n",
    "& & x_j & \\geq & 0 & \\quad & j = & 1,2,3,4\n",
    "\\end{array}\\right.\n",
    "$$\n",
    "\n",
    "La base $K = \\{x_3, x_4\\}$ n'est donc pas une base réalisable, mais on peut tout de même \n",
    "écrire le dictionnaire pour cette base\n",
    "\n",
    "\n",
    "**Todo:** Construire ce dictionnaire en python et lancer l'algorithme du simplexe en deux phases. Vérifier qu'il renvoie bien le minimum."
   ]
  },
  {
   "cell_type": "code",
   "execution_count": null,
   "metadata": {},
   "outputs": [],
   "source": [
    "n = #\n",
    "m = #\n",
    "\n",
    "dict = Dictionary(m,n+m)\n",
    "\n",
    "dict.D[0,0] = #\n",
    "dict.D[1:,0] = ##\n",
    "dict.D[0,1:] = ##\n",
    "dict.D[1:,1:] = ##\n",
    "dict.basic = ##\n",
    "dict.c[:] = ##\n",
    "\n",
    "optimal_cost, solution, dict = simplex_two_phases(dict)"
   ]
  },
  {
   "cell_type": "markdown",
   "metadata": {},
   "source": [
    "## III. Problème de transport\n",
    "\n",
    "Dans cette section, nous allons appliquer l'algorithme du simplexe pour résoudre un problème de transport.\n"
   ]
  },
  {
   "cell_type": "markdown",
   "metadata": {},
   "source": [
    "### 1. Le problème\n",
    "\n",
    "\n",
    "Une brasserie dispose de deux usines de fabrication qui approvisionnent cinq bars. \n",
    "Au début de chaque semaine, chaque bar commande le volume de bière voulu pour la semaine au centre logistique de la brasserie qui choisit quelles usines fournissent quels bars.\n",
    "\n",
    "La brasserie veut un moyen d'optimiser chaque semaine les coûts de transport de cette opération.\n",
    "\n",
    "Supposons que pour cette semaine, l'usine A dispose de 1000L de bière et l'usine B dispose de 4000L et que les bars demandent 500L, 900L, 1800L, 200L et 700L chacun. \n",
    "\n",
    "Le schéma suivant représente graphiquement le problème :\n",
    "\n",
    "![alt text](brewery_arcs.jpg)"
   ]
  },
  {
   "cell_type": "markdown",
   "metadata": {},
   "source": [
    "### 2. Modélisation du problème\n",
    "\n",
    "Les variables de decision représentent les volumes de bières (en L) livrés des usines aux bars (représentés par les flèches sur le schéma). Soient $U = \\{a,b\\}$ et $B = \\{1,2,3,4,5\\}$ et les variables :\n",
    "$$\n",
    "    x_{w,b} \\geq 0, \\quad \\forall w \\in W, b \\in B\n",
    "$$\n",
    "\n",
    "Les contraintes viennent des besoins de chaque bar et des stocks de chaque usine. Le volume de bière distribué depuis une usine ne peut pas excéder son stock. On formule ainsi deux contraintes :\n",
    "$$\n",
    "    \\sum_{b \\in B} x_{w,b} \\leq s_w, \\quad \\forall w \\in W\n",
    "$$\n",
    "avec $s_a = 1000$ et $s_b = 4000$ représentant le stock de chaque usine.\n",
    "\n",
    "Pour éviter les pertes de vente, le volume livré à un bar doit être superieur à sa demande qui peut stocker l'excèdent pour la semaine suivante. Ceci permet de formuler 5 contraintes :\n",
    "$$\n",
    "    \\sum_{w \\in W} x_{w,b} \\geq d_b, \\quad \\forall b \\in B\n",
    "$$\n",
    "avec $d_1 = 500$, $d_2 = 900$, $d_3 = 1800$, $d_4 = 200$, $d_5 = 700$ qui représentent les demandes de chaque bar.\n",
    "\n",
    "Pour ce problème, nous supposerons que le coût de transport est proportionnel au volume transporté d'une usine à l'autre. Les coûts de transport entre les usine et les bars sont :\n",
    "$$\n",
    "\\begin{array}{c | c c c c c}\n",
    "    \\hline\n",
    "    & 1 & 2 & 3 & 4 & 5 \\\\ \\hline\n",
    "    a & 2 & 4 & 5 & 2 & 1 \\\\\n",
    "    b & 3 & 1 & 3 & 2 & 3 \\\\\n",
    "\\end{array} = (c_{w,b})_{w \\in W, b \\in B}\n",
    "$$\n",
    "en euros par L de bière.\n",
    "La fonction coût est donc \n",
    "$$\n",
    "    \\sum_{w \\in W, b \\in B} c_{w,b} x_{w,b}\n",
    "$$\n",
    "\n",
    "\n"
   ]
  },
  {
   "cell_type": "markdown",
   "metadata": {},
   "source": [
    "### 3. Ecriture du dictionnaire\n",
    "\n",
    "Le problème linéaire contient $n = 10$ variables et $m = 7$ contraintes d'égalité et peut s'écrire sous la forme :\n",
    "$$\n",
    "    \\min_{x \\in \\mathbb{R}^n} \\langle c, x\\rangle \\quad \\text{s.c.} \\quad x \\geq 0, A x \\leq b\n",
    "$$\n",
    "avec :\n",
    "- $x \\in \\mathbb{R}^{10}$ contenant les variables ordonnées sous cette forme $x = (x_{a,1}, x_{a,2}, x_{a,3}, x_{a,4}, x_{a,5}, x_{b,1}, x_{b,2}, x_{b,3}, x_{b,4}, x_{b,5})$\n",
    "- $c \\in \\mathbb{R}^{10}$ contenant les couts pour chaque variable dans le meme ordre $c = (c_{a,1}, c_{a,2}, c_{a,3}, c_{a,4}, c_{a,5}, c_{b,1}, c_{b,2}, c_{b,3}, c_{b,4}, c_{b,5})$\n",
    "- La matrice $A \\in \\mathbb{R}^{7,10}$\n",
    "$$ \n",
    "A = \n",
    "\\begin{pmatrix}\n",
    "-1 & 0 & 0 & 0 & 0 & -1 & 0 & 0 & 0 & 0 \\\\\n",
    "0 & -1 & 0 & 0 & 0 & 0 & -1 & 0 & 0 & 0 \\\\\n",
    "0 & 0 & -1 & 0 & 0 & 0 & 0 & -1 & 0 & 0 \\\\\n",
    "0 & 0 & 0 & -1 & 0 & 0 & 0 & 0 & -1 & 0 \\\\\n",
    "0 & 0 & 0 & 0 & -1 & 0 & 0 & 0 & 0 & -1 \\\\\n",
    "1 & 1 & 1 & 1 & 1 & 0 & 0 & 0 & 0 & 0 \\\\\n",
    "0 & 0 & 0 & 0 & 0 & 1 & 1 & 1 & 1 & 1\n",
    "\\end{pmatrix}\n",
    "$$\n",
    "- Le vecteur $b = (-d_1, -d_2, -d_3, -d_4, -d_5, s_a, s_b ) = (-500, -900, -1800, -200, -700, 1000, 4000) $ \n",
    "\n",
    "**Todo:** Comprendre l'obtention du problème de transport sous forme canonique. Ecrire le problème en forme standard avec les 7 variables d'écarts $s_i \\geq 0$ et écrire le dictionnaire associé. Puis compléter le code suivant afin de créér le dictionnaire dans la structure `Dictionary`. Les variables d'écarts seront placées après les variables du vecteur $x$."
   ]
  },
  {
   "cell_type": "code",
   "execution_count": null,
   "metadata": {},
   "outputs": [],
   "source": [
    "n = 10\n",
    "m = 7\n",
    "\n",
    "dict = Dictionary(m,n+m)\n",
    "\n",
    "# création des labels\n",
    "# les volumes en L\n",
    "dict.labels = ['x_{%s,%d}' % (i,j) for i in ['a', 'b'] for j in range(0,5)]\n",
    "# puis les variables d'écarts\n",
    "[dict.labels.append('s_%d' % (i)) for i in range(0,7)]\n",
    "\n",
    "\n",
    "dict.c[:] = ## \n",
    "A = np.zeros((m,n))\n",
    "b = np.array(###)\n",
    "\n",
    "dict.D[0,0] = #\n",
    "dict.D[1:,0] = #\n",
    "dict.D[0,1:] = #\n",
    "dict.D[1:,1:(n+1)] = #\n",
    "dict.D[1:,(n+1):] = #\n",
    "dict.basic = list(range(n,n+m)) # les variables de bases sont à la fin\n",
    "\n",
    "dict.display()"
   ]
  },
  {
   "cell_type": "markdown",
   "metadata": {},
   "source": [
    "Comme le dictionnaire n'est pas valide (les variables d'écarts sont négatives) il faut résoudre ce problème à l'aide de la méthode `simplex_two_phases`.\n",
    "\n",
    "**Todo:** résoudre le problème et analyser les résultats."
   ]
  },
  {
   "cell_type": "code",
   "execution_count": null,
   "metadata": {},
   "outputs": [],
   "source": [
    "optimal_cost, solution, dict = simplex_two_phases(dict)\n"
   ]
  }
 ],
 "metadata": {
  "kernelspec": {
   "display_name": "Python 3 (ipykernel)",
   "language": "python",
   "name": "python3"
  },
  "language_info": {
   "codemirror_mode": {
    "name": "ipython",
    "version": 3
   },
   "file_extension": ".py",
   "mimetype": "text/x-python",
   "name": "python",
   "nbconvert_exporter": "python",
   "pygments_lexer": "ipython3",
   "version": "3.10.12"
  }
 },
 "nbformat": 4,
 "nbformat_minor": 4
}
